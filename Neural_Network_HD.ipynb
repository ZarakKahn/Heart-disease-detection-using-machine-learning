{
 "cells": [
  {
   "cell_type": "code",
   "execution_count": 1,
   "id": "e2cf644c",
   "metadata": {},
   "outputs": [],
   "source": [
    "import numpy as np\n",
    "from numpy.random import seed\n",
    "import pandas as pd \n",
    "import matplotlib.pyplot as plt\n",
    "from sklearn.model_selection import train_test_split"
   ]
  },
  {
   "cell_type": "code",
   "execution_count": 2,
   "id": "76099d25",
   "metadata": {},
   "outputs": [
    {
     "name": "stdout",
     "output_type": "stream",
     "text": [
      "     age  sex  cp  trestbps  chol  fbs  restecg  thalach  exang  oldpeak  \\\n",
      "0     70    1   4       130   322    0        2      109      0      2.4   \n",
      "1     67    0   3       115   564    0        2      160      0      1.6   \n",
      "2     57    1   2       124   261    0        0      141      0      0.3   \n",
      "3     64    1   4       128   263    0        0      105      1      0.2   \n",
      "4     74    0   2       120   269    0        2      121      1      0.2   \n",
      "..   ...  ...  ..       ...   ...  ...      ...      ...    ...      ...   \n",
      "265   52    1   3       172   199    1        0      162      0      0.5   \n",
      "266   44    1   2       120   263    0        0      173      0      0.0   \n",
      "267   56    0   2       140   294    0        2      153      0      1.3   \n",
      "268   57    1   4       140   192    0        0      148      0      0.4   \n",
      "269   67    1   4       160   286    0        2      108      1      1.5   \n",
      "\n",
      "     slope  ca  thal  target  \n",
      "0        2   3     3       2  \n",
      "1        2   0     7       1  \n",
      "2        1   0     7       2  \n",
      "3        2   1     7       1  \n",
      "4        1   1     3       1  \n",
      "..     ...  ..   ...     ...  \n",
      "265      1   0     7       1  \n",
      "266      1   0     7       1  \n",
      "267      2   0     3       1  \n",
      "268      2   0     6       1  \n",
      "269      2   3     3       2  \n",
      "\n",
      "[270 rows x 14 columns]\n"
     ]
    }
   ],
   "source": [
    "#loading datasets\n",
    "dt = pd.read_csv('data.csv')\n",
    "print(dt)"
   ]
  },
  {
   "cell_type": "code",
   "execution_count": 3,
   "id": "f611ce1f",
   "metadata": {},
   "outputs": [
    {
     "data": {
      "text/html": [
       "<div>\n",
       "<style scoped>\n",
       "    .dataframe tbody tr th:only-of-type {\n",
       "        vertical-align: middle;\n",
       "    }\n",
       "\n",
       "    .dataframe tbody tr th {\n",
       "        vertical-align: top;\n",
       "    }\n",
       "\n",
       "    .dataframe thead th {\n",
       "        text-align: right;\n",
       "    }\n",
       "</style>\n",
       "<table border=\"1\" class=\"dataframe\">\n",
       "  <thead>\n",
       "    <tr style=\"text-align: right;\">\n",
       "      <th></th>\n",
       "      <th>age</th>\n",
       "      <th>sex</th>\n",
       "      <th>cp</th>\n",
       "      <th>trestbps</th>\n",
       "      <th>chol</th>\n",
       "      <th>fbs</th>\n",
       "      <th>restecg</th>\n",
       "      <th>thalach</th>\n",
       "      <th>exang</th>\n",
       "      <th>oldpeak</th>\n",
       "      <th>slope</th>\n",
       "      <th>ca</th>\n",
       "      <th>thal</th>\n",
       "      <th>target</th>\n",
       "    </tr>\n",
       "  </thead>\n",
       "  <tbody>\n",
       "    <tr>\n",
       "      <th>0</th>\n",
       "      <td>70</td>\n",
       "      <td>1</td>\n",
       "      <td>4</td>\n",
       "      <td>130</td>\n",
       "      <td>322</td>\n",
       "      <td>0</td>\n",
       "      <td>2</td>\n",
       "      <td>109</td>\n",
       "      <td>0</td>\n",
       "      <td>2.4</td>\n",
       "      <td>2</td>\n",
       "      <td>3</td>\n",
       "      <td>3</td>\n",
       "      <td>1</td>\n",
       "    </tr>\n",
       "    <tr>\n",
       "      <th>1</th>\n",
       "      <td>67</td>\n",
       "      <td>0</td>\n",
       "      <td>3</td>\n",
       "      <td>115</td>\n",
       "      <td>564</td>\n",
       "      <td>0</td>\n",
       "      <td>2</td>\n",
       "      <td>160</td>\n",
       "      <td>0</td>\n",
       "      <td>1.6</td>\n",
       "      <td>2</td>\n",
       "      <td>0</td>\n",
       "      <td>7</td>\n",
       "      <td>0</td>\n",
       "    </tr>\n",
       "    <tr>\n",
       "      <th>2</th>\n",
       "      <td>57</td>\n",
       "      <td>1</td>\n",
       "      <td>2</td>\n",
       "      <td>124</td>\n",
       "      <td>261</td>\n",
       "      <td>0</td>\n",
       "      <td>0</td>\n",
       "      <td>141</td>\n",
       "      <td>0</td>\n",
       "      <td>0.3</td>\n",
       "      <td>1</td>\n",
       "      <td>0</td>\n",
       "      <td>7</td>\n",
       "      <td>1</td>\n",
       "    </tr>\n",
       "    <tr>\n",
       "      <th>3</th>\n",
       "      <td>64</td>\n",
       "      <td>1</td>\n",
       "      <td>4</td>\n",
       "      <td>128</td>\n",
       "      <td>263</td>\n",
       "      <td>0</td>\n",
       "      <td>0</td>\n",
       "      <td>105</td>\n",
       "      <td>1</td>\n",
       "      <td>0.2</td>\n",
       "      <td>2</td>\n",
       "      <td>1</td>\n",
       "      <td>7</td>\n",
       "      <td>0</td>\n",
       "    </tr>\n",
       "    <tr>\n",
       "      <th>4</th>\n",
       "      <td>74</td>\n",
       "      <td>0</td>\n",
       "      <td>2</td>\n",
       "      <td>120</td>\n",
       "      <td>269</td>\n",
       "      <td>0</td>\n",
       "      <td>2</td>\n",
       "      <td>121</td>\n",
       "      <td>1</td>\n",
       "      <td>0.2</td>\n",
       "      <td>1</td>\n",
       "      <td>1</td>\n",
       "      <td>3</td>\n",
       "      <td>0</td>\n",
       "    </tr>\n",
       "  </tbody>\n",
       "</table>\n",
       "</div>"
      ],
      "text/plain": [
       "   age  sex  cp  trestbps  chol  fbs  restecg  thalach  exang  oldpeak  slope  \\\n",
       "0   70    1   4       130   322    0        2      109      0      2.4      2   \n",
       "1   67    0   3       115   564    0        2      160      0      1.6      2   \n",
       "2   57    1   2       124   261    0        0      141      0      0.3      1   \n",
       "3   64    1   4       128   263    0        0      105      1      0.2      2   \n",
       "4   74    0   2       120   269    0        2      121      1      0.2      1   \n",
       "\n",
       "   ca  thal  target  \n",
       "0   3     3       1  \n",
       "1   0     7       0  \n",
       "2   0     7       1  \n",
       "3   1     7       0  \n",
       "4   1     3       0  "
      ]
     },
     "execution_count": 3,
     "metadata": {},
     "output_type": "execute_result"
    }
   ],
   "source": [
    "#scaling the data \n",
    "dt['target'].replace({1:0, 2:1}, inplace=True)\n",
    "dt.head()"
   ]
  },
  {
   "cell_type": "code",
   "execution_count": 4,
   "id": "f3ca5018",
   "metadata": {},
   "outputs": [],
   "source": [
    "#dt.info()"
   ]
  },
  {
   "cell_type": "code",
   "execution_count": 5,
   "id": "c7a9f8cd",
   "metadata": {},
   "outputs": [],
   "source": [
    "X = dt.drop(columns='target', axis=1)\n",
    "Y =dt['target']"
   ]
  },
  {
   "cell_type": "code",
   "execution_count": 6,
   "id": "0d2208fc",
   "metadata": {},
   "outputs": [
    {
     "data": {
      "text/html": [
       "<div>\n",
       "<style scoped>\n",
       "    .dataframe tbody tr th:only-of-type {\n",
       "        vertical-align: middle;\n",
       "    }\n",
       "\n",
       "    .dataframe tbody tr th {\n",
       "        vertical-align: top;\n",
       "    }\n",
       "\n",
       "    .dataframe thead th {\n",
       "        text-align: right;\n",
       "    }\n",
       "</style>\n",
       "<table border=\"1\" class=\"dataframe\">\n",
       "  <thead>\n",
       "    <tr style=\"text-align: right;\">\n",
       "      <th></th>\n",
       "      <th>age</th>\n",
       "      <th>sex</th>\n",
       "      <th>cp</th>\n",
       "      <th>trestbps</th>\n",
       "      <th>chol</th>\n",
       "      <th>fbs</th>\n",
       "      <th>restecg</th>\n",
       "      <th>thalach</th>\n",
       "      <th>exang</th>\n",
       "      <th>oldpeak</th>\n",
       "      <th>slope</th>\n",
       "      <th>ca</th>\n",
       "      <th>thal</th>\n",
       "    </tr>\n",
       "  </thead>\n",
       "  <tbody>\n",
       "    <tr>\n",
       "      <th>0</th>\n",
       "      <td>70</td>\n",
       "      <td>1</td>\n",
       "      <td>4</td>\n",
       "      <td>130</td>\n",
       "      <td>322</td>\n",
       "      <td>0</td>\n",
       "      <td>2</td>\n",
       "      <td>109</td>\n",
       "      <td>0</td>\n",
       "      <td>2.4</td>\n",
       "      <td>2</td>\n",
       "      <td>3</td>\n",
       "      <td>3</td>\n",
       "    </tr>\n",
       "    <tr>\n",
       "      <th>1</th>\n",
       "      <td>67</td>\n",
       "      <td>0</td>\n",
       "      <td>3</td>\n",
       "      <td>115</td>\n",
       "      <td>564</td>\n",
       "      <td>0</td>\n",
       "      <td>2</td>\n",
       "      <td>160</td>\n",
       "      <td>0</td>\n",
       "      <td>1.6</td>\n",
       "      <td>2</td>\n",
       "      <td>0</td>\n",
       "      <td>7</td>\n",
       "    </tr>\n",
       "    <tr>\n",
       "      <th>2</th>\n",
       "      <td>57</td>\n",
       "      <td>1</td>\n",
       "      <td>2</td>\n",
       "      <td>124</td>\n",
       "      <td>261</td>\n",
       "      <td>0</td>\n",
       "      <td>0</td>\n",
       "      <td>141</td>\n",
       "      <td>0</td>\n",
       "      <td>0.3</td>\n",
       "      <td>1</td>\n",
       "      <td>0</td>\n",
       "      <td>7</td>\n",
       "    </tr>\n",
       "    <tr>\n",
       "      <th>3</th>\n",
       "      <td>64</td>\n",
       "      <td>1</td>\n",
       "      <td>4</td>\n",
       "      <td>128</td>\n",
       "      <td>263</td>\n",
       "      <td>0</td>\n",
       "      <td>0</td>\n",
       "      <td>105</td>\n",
       "      <td>1</td>\n",
       "      <td>0.2</td>\n",
       "      <td>2</td>\n",
       "      <td>1</td>\n",
       "      <td>7</td>\n",
       "    </tr>\n",
       "    <tr>\n",
       "      <th>4</th>\n",
       "      <td>74</td>\n",
       "      <td>0</td>\n",
       "      <td>2</td>\n",
       "      <td>120</td>\n",
       "      <td>269</td>\n",
       "      <td>0</td>\n",
       "      <td>2</td>\n",
       "      <td>121</td>\n",
       "      <td>1</td>\n",
       "      <td>0.2</td>\n",
       "      <td>1</td>\n",
       "      <td>1</td>\n",
       "      <td>3</td>\n",
       "    </tr>\n",
       "    <tr>\n",
       "      <th>...</th>\n",
       "      <td>...</td>\n",
       "      <td>...</td>\n",
       "      <td>...</td>\n",
       "      <td>...</td>\n",
       "      <td>...</td>\n",
       "      <td>...</td>\n",
       "      <td>...</td>\n",
       "      <td>...</td>\n",
       "      <td>...</td>\n",
       "      <td>...</td>\n",
       "      <td>...</td>\n",
       "      <td>...</td>\n",
       "      <td>...</td>\n",
       "    </tr>\n",
       "    <tr>\n",
       "      <th>265</th>\n",
       "      <td>52</td>\n",
       "      <td>1</td>\n",
       "      <td>3</td>\n",
       "      <td>172</td>\n",
       "      <td>199</td>\n",
       "      <td>1</td>\n",
       "      <td>0</td>\n",
       "      <td>162</td>\n",
       "      <td>0</td>\n",
       "      <td>0.5</td>\n",
       "      <td>1</td>\n",
       "      <td>0</td>\n",
       "      <td>7</td>\n",
       "    </tr>\n",
       "    <tr>\n",
       "      <th>266</th>\n",
       "      <td>44</td>\n",
       "      <td>1</td>\n",
       "      <td>2</td>\n",
       "      <td>120</td>\n",
       "      <td>263</td>\n",
       "      <td>0</td>\n",
       "      <td>0</td>\n",
       "      <td>173</td>\n",
       "      <td>0</td>\n",
       "      <td>0.0</td>\n",
       "      <td>1</td>\n",
       "      <td>0</td>\n",
       "      <td>7</td>\n",
       "    </tr>\n",
       "    <tr>\n",
       "      <th>267</th>\n",
       "      <td>56</td>\n",
       "      <td>0</td>\n",
       "      <td>2</td>\n",
       "      <td>140</td>\n",
       "      <td>294</td>\n",
       "      <td>0</td>\n",
       "      <td>2</td>\n",
       "      <td>153</td>\n",
       "      <td>0</td>\n",
       "      <td>1.3</td>\n",
       "      <td>2</td>\n",
       "      <td>0</td>\n",
       "      <td>3</td>\n",
       "    </tr>\n",
       "    <tr>\n",
       "      <th>268</th>\n",
       "      <td>57</td>\n",
       "      <td>1</td>\n",
       "      <td>4</td>\n",
       "      <td>140</td>\n",
       "      <td>192</td>\n",
       "      <td>0</td>\n",
       "      <td>0</td>\n",
       "      <td>148</td>\n",
       "      <td>0</td>\n",
       "      <td>0.4</td>\n",
       "      <td>2</td>\n",
       "      <td>0</td>\n",
       "      <td>6</td>\n",
       "    </tr>\n",
       "    <tr>\n",
       "      <th>269</th>\n",
       "      <td>67</td>\n",
       "      <td>1</td>\n",
       "      <td>4</td>\n",
       "      <td>160</td>\n",
       "      <td>286</td>\n",
       "      <td>0</td>\n",
       "      <td>2</td>\n",
       "      <td>108</td>\n",
       "      <td>1</td>\n",
       "      <td>1.5</td>\n",
       "      <td>2</td>\n",
       "      <td>3</td>\n",
       "      <td>3</td>\n",
       "    </tr>\n",
       "  </tbody>\n",
       "</table>\n",
       "<p>270 rows × 13 columns</p>\n",
       "</div>"
      ],
      "text/plain": [
       "     age  sex  cp  trestbps  chol  fbs  restecg  thalach  exang  oldpeak  \\\n",
       "0     70    1   4       130   322    0        2      109      0      2.4   \n",
       "1     67    0   3       115   564    0        2      160      0      1.6   \n",
       "2     57    1   2       124   261    0        0      141      0      0.3   \n",
       "3     64    1   4       128   263    0        0      105      1      0.2   \n",
       "4     74    0   2       120   269    0        2      121      1      0.2   \n",
       "..   ...  ...  ..       ...   ...  ...      ...      ...    ...      ...   \n",
       "265   52    1   3       172   199    1        0      162      0      0.5   \n",
       "266   44    1   2       120   263    0        0      173      0      0.0   \n",
       "267   56    0   2       140   294    0        2      153      0      1.3   \n",
       "268   57    1   4       140   192    0        0      148      0      0.4   \n",
       "269   67    1   4       160   286    0        2      108      1      1.5   \n",
       "\n",
       "     slope  ca  thal  \n",
       "0        2   3     3  \n",
       "1        2   0     7  \n",
       "2        1   0     7  \n",
       "3        2   1     7  \n",
       "4        1   1     3  \n",
       "..     ...  ..   ...  \n",
       "265      1   0     7  \n",
       "266      1   0     7  \n",
       "267      2   0     3  \n",
       "268      2   0     6  \n",
       "269      2   3     3  \n",
       "\n",
       "[270 rows x 13 columns]"
      ]
     },
     "execution_count": 6,
     "metadata": {},
     "output_type": "execute_result"
    }
   ],
   "source": [
    "X"
   ]
  },
  {
   "cell_type": "code",
   "execution_count": 7,
   "id": "537a508b",
   "metadata": {},
   "outputs": [
    {
     "data": {
      "text/plain": [
       "0      1\n",
       "1      0\n",
       "2      1\n",
       "3      0\n",
       "4      0\n",
       "      ..\n",
       "265    0\n",
       "266    0\n",
       "267    0\n",
       "268    0\n",
       "269    1\n",
       "Name: target, Length: 270, dtype: int64"
      ]
     },
     "execution_count": 7,
     "metadata": {},
     "output_type": "execute_result"
    }
   ],
   "source": [
    "Y"
   ]
  },
  {
   "cell_type": "code",
   "execution_count": 8,
   "id": "9542383f",
   "metadata": {},
   "outputs": [],
   "source": [
    "X_train, X_test, Y_train, Y_test = train_test_split(X, Y, test_size=0.3, random_state=2, stratify = Y)"
   ]
  },
  {
   "cell_type": "code",
   "execution_count": 9,
   "id": "0cb2bbc4",
   "metadata": {},
   "outputs": [
    {
     "name": "stdout",
     "output_type": "stream",
     "text": [
      "(270, 13) (189, 13) (81, 13)\n"
     ]
    }
   ],
   "source": [
    "print(X.shape, X_train.shape, X_test.shape)"
   ]
  },
  {
   "cell_type": "markdown",
   "id": "5a1d2aeb",
   "metadata": {},
   "source": [
    "# Data standardization"
   ]
  },
  {
   "cell_type": "code",
   "execution_count": 10,
   "id": "bd3ec290",
   "metadata": {},
   "outputs": [],
   "source": [
    "from sklearn.preprocessing import StandardScaler"
   ]
  },
  {
   "cell_type": "code",
   "execution_count": 11,
   "id": "78a7deea",
   "metadata": {},
   "outputs": [],
   "source": [
    "scaler = StandardScaler() \n",
    "X_train_std = scaler.fit_transform(X_train)\n",
    "X_test_std = scaler.transform(X_test)"
   ]
  },
  {
   "cell_type": "markdown",
   "id": "3393dab4",
   "metadata": {},
   "source": [
    "# Building our Neural network."
   ]
  },
  {
   "cell_type": "code",
   "execution_count": 12,
   "id": "1e2f8d13",
   "metadata": {},
   "outputs": [
    {
     "ename": "ModuleNotFoundError",
     "evalue": "No module named 'tensorflow'",
     "output_type": "error",
     "traceback": [
      "\u001b[1;31m---------------------------------------------------------------------------\u001b[0m",
      "\u001b[1;31mModuleNotFoundError\u001b[0m                       Traceback (most recent call last)",
      "\u001b[1;32m<ipython-input-12-3a1a9f9c6d01>\u001b[0m in \u001b[0;36m<module>\u001b[1;34m\u001b[0m\n\u001b[0;32m      1\u001b[0m \u001b[1;31m#importing libraries for NN\u001b[0m\u001b[1;33m\u001b[0m\u001b[1;33m\u001b[0m\u001b[1;33m\u001b[0m\u001b[0m\n\u001b[0;32m      2\u001b[0m \u001b[1;32mimport\u001b[0m \u001b[0mnumpy\u001b[0m \u001b[1;32mas\u001b[0m \u001b[0mnp\u001b[0m\u001b[1;33m\u001b[0m\u001b[1;33m\u001b[0m\u001b[0m\n\u001b[1;32m----> 3\u001b[1;33m \u001b[1;32mimport\u001b[0m \u001b[0mtensorflow\u001b[0m \u001b[1;32mas\u001b[0m \u001b[0mtf\u001b[0m\u001b[1;33m\u001b[0m\u001b[1;33m\u001b[0m\u001b[0m\n\u001b[0m\u001b[0;32m      4\u001b[0m \u001b[1;32mimport\u001b[0m \u001b[0mrandom\u001b[0m\u001b[1;33m\u001b[0m\u001b[1;33m\u001b[0m\u001b[0m\n\u001b[0;32m      5\u001b[0m \u001b[1;32mfrom\u001b[0m \u001b[0mtensorflow\u001b[0m \u001b[1;32mimport\u001b[0m \u001b[0mkeras\u001b[0m\u001b[1;33m\u001b[0m\u001b[1;33m\u001b[0m\u001b[0m\n",
      "\u001b[1;31mModuleNotFoundError\u001b[0m: No module named 'tensorflow'"
     ]
    }
   ],
   "source": [
    "#importing libraries for NN\n",
    "import numpy as np\n",
    "import tensorflow as tf\n",
    "import random\n",
    "from tensorflow import keras\n",
    "import seaborn as sns\n",
    "import tensorflow as tf #2.2.0\n",
    "\n",
    "SEED=0\n",
    "random.seed(SEED)\n",
    "tf.random.set_seed(SEED)"
   ]
  },
  {
   "cell_type": "code",
   "execution_count": 13,
   "id": "2ebf0981",
   "metadata": {},
   "outputs": [],
   "source": [
    "#CREATING LAYERS FOR NN\n",
    "model = keras.Sequential([\n",
    "     keras.layers.Flatten(input_shape=(13,)),\n",
    "     keras.layers.Dense(20, activation='relu'),\n",
    "     keras.layers.Dense(20, activation='relu'),\n",
    "     keras.layers.Dense(2, activation='sigmoid')\n",
    " ])"
   ]
  },
  {
   "cell_type": "code",
   "execution_count": 14,
   "id": "4dc3544d",
   "metadata": {},
   "outputs": [],
   "source": [
    "#compiling the NN\n",
    "model.compile(loss='sparse_categorical_crossentropy', optimizer='adam' , metrics=['accuracy'])"
   ]
  },
  {
   "cell_type": "code",
   "execution_count": 15,
   "id": "439ce918",
   "metadata": {},
   "outputs": [
    {
     "name": "stdout",
     "output_type": "stream",
     "text": [
      "Epoch 1/10\n",
      "14/14 [==============================] - 5s 48ms/step - loss: 0.7013 - accuracy: 0.6061 - val_loss: 0.6368 - val_accuracy: 0.5965\n",
      "Epoch 2/10\n",
      "14/14 [==============================] - 0s 13ms/step - loss: 0.6136 - accuracy: 0.6970 - val_loss: 0.5813 - val_accuracy: 0.7193\n",
      "Epoch 3/10\n",
      "14/14 [==============================] - 0s 12ms/step - loss: 0.5530 - accuracy: 0.7727 - val_loss: 0.5455 - val_accuracy: 0.7544\n",
      "Epoch 4/10\n",
      "14/14 [==============================] - 0s 12ms/step - loss: 0.5076 - accuracy: 0.7727 - val_loss: 0.5198 - val_accuracy: 0.7719\n",
      "Epoch 5/10\n",
      "14/14 [==============================] - 0s 13ms/step - loss: 0.4729 - accuracy: 0.8182 - val_loss: 0.5004 - val_accuracy: 0.7895\n",
      "Epoch 6/10\n",
      "14/14 [==============================] - 0s 12ms/step - loss: 0.4449 - accuracy: 0.8182 - val_loss: 0.4832 - val_accuracy: 0.8070\n",
      "Epoch 7/10\n",
      "14/14 [==============================] - 0s 13ms/step - loss: 0.4198 - accuracy: 0.8258 - val_loss: 0.4705 - val_accuracy: 0.7895\n",
      "Epoch 8/10\n",
      "14/14 [==============================] - 0s 12ms/step - loss: 0.3975 - accuracy: 0.8333 - val_loss: 0.4603 - val_accuracy: 0.7895\n",
      "Epoch 9/10\n",
      "14/14 [==============================] - 0s 12ms/step - loss: 0.3778 - accuracy: 0.8561 - val_loss: 0.4516 - val_accuracy: 0.7895\n",
      "Epoch 10/10\n",
      "14/14 [==============================] - 0s 11ms/step - loss: 0.3629 - accuracy: 0.8561 - val_loss: 0.4437 - val_accuracy: 0.8070\n"
     ]
    }
   ],
   "source": [
    "#training the ANN\n",
    "\n",
    "visuo = model.fit(X_train_std, Y_train, validation_split=0.3, epochs = 10, batch_size = 10, )\n"
   ]
  },
  {
   "cell_type": "markdown",
   "id": "241f8f00",
   "metadata": {},
   "source": [
    "# accuracy on train data"
   ]
  },
  {
   "cell_type": "code",
   "execution_count": 16,
   "id": "f834565c",
   "metadata": {},
   "outputs": [
    {
     "name": "stdout",
     "output_type": "stream",
     "text": [
      "6/6 [==============================] - 0s 4ms/step - loss: 0.3800 - accuracy: 0.8466\n",
      "0.8465608358383179\n"
     ]
    }
   ],
   "source": [
    "los, accu = model.evaluate(X_train_std, Y_train)\n",
    "\n",
    "print(accu)"
   ]
  },
  {
   "cell_type": "markdown",
   "id": "fdfef9e5",
   "metadata": {},
   "source": [
    "# accuracy on test data"
   ]
  },
  {
   "cell_type": "code",
   "execution_count": 17,
   "id": "dea4d6cb",
   "metadata": {},
   "outputs": [
    {
     "name": "stdout",
     "output_type": "stream",
     "text": [
      "3/3 [==============================] - 0s 4ms/step - loss: 0.4463 - accuracy: 0.8395\n",
      "0.8395061492919922\n"
     ]
    }
   ],
   "source": [
    "loss, accuracy = model.evaluate(X_test_std,Y_test)\n",
    "print(accuracy)"
   ]
  },
  {
   "cell_type": "markdown",
   "id": "1bd144a9",
   "metadata": {},
   "source": [
    "# visualizing the neural network"
   ]
  },
  {
   "cell_type": "code",
   "execution_count": 18,
   "id": "fbb46e5c",
   "metadata": {},
   "outputs": [
    {
     "data": {
      "text/plain": [
       "<matplotlib.legend.Legend at 0x15ae2928a60>"
      ]
     },
     "execution_count": 18,
     "metadata": {},
     "output_type": "execute_result"
    },
    {
     "data": {
      "image/png": "[encoded data removed]",
      "text/plain": [
       "<Figure size 432x288 with 1 Axes>"
      ]
     },
     "metadata": {
      "needs_background": "light"
     },
     "output_type": "display_data"
    }
   ],
   "source": [
    "plt.plot(visuo.history['accuracy'])\n",
    "\n",
    "plt.plot(visuo.history['val_accuracy'])\n",
    "plt.title('model_accuracy')\n",
    "\n",
    "plt.ylabel('accuracy')\n",
    "plt.xlabel('epochs')\n",
    "\n",
    "plt.legend(['training data', 'validation data'], loc = 'lower right')"
   ]
  },
  {
   "cell_type": "code",
   "execution_count": 19,
   "id": "b8c4a042",
   "metadata": {},
   "outputs": [
    {
     "data": {
      "text/plain": [
       "<matplotlib.legend.Legend at 0x15ae28ef7c0>"
      ]
     },
     "execution_count": 19,
     "metadata": {},
     "output_type": "execute_result"
    },
    {
     "data": {
      "image/png": "[encoded data removed]",
      "text/plain": [
       "<Figure size 432x288 with 1 Axes>"
      ]
     },
     "metadata": {
      "needs_background": "light"
     },
     "output_type": "display_data"
    }
   ],
   "source": [
    "plt.plot(visuo.history['loss'])\n",
    "\n",
    "plt.plot(visuo.history['val_loss'])\n",
    "plt.title('model_loss')\n",
    "\n",
    "plt.ylabel('loss')\n",
    "plt.xlabel('epochs')\n",
    "\n",
    "plt.legend(['training data', 'validation data'], loc = 'upper right')"
   ]
  },
  {
   "cell_type": "code",
   "execution_count": 20,
   "id": "50fbd187",
   "metadata": {},
   "outputs": [
    {
     "name": "stdout",
     "output_type": "stream",
     "text": [
      "(81, 2)\n",
      "[0.7662147 0.4247561]\n"
     ]
    }
   ],
   "source": [
    "y_pred = model.predict(X_test_std)\n",
    "\n",
    "print(y_pred.shape)\n",
    "print(y_pred[1])"
   ]
  },
  {
   "cell_type": "code",
   "execution_count": 21,
   "id": "f55bf305",
   "metadata": {},
   "outputs": [
    {
     "name": "stdout",
     "output_type": "stream",
     "text": [
      "(81, 13)\n",
      "[0.7153654  0.37965572]\n"
     ]
    }
   ],
   "source": [
    "print(X_test_std.shape)\n",
    "print(y_pred[0])"
   ]
  },
  {
   "cell_type": "code",
   "execution_count": 22,
   "id": "56ebe1a9",
   "metadata": {},
   "outputs": [
    {
     "name": "stdout",
     "output_type": "stream",
     "text": [
      "[[-1.4566487   0.68199434  0.89117477 ... -0.97631526 -0.7194587\n",
      "   1.17104356]\n",
      " [ 0.13165863  0.68199434 -1.21422562 ... -0.97631526 -0.7194587\n",
      "  -0.89743525]\n",
      " [ 0.66109441  0.68199434 -0.16152543 ...  0.67121674 -0.7194587\n",
      "  -0.89743525]\n",
      " ...\n",
      " [ 1.29641734  0.68199434  0.89117477 ...  0.67121674  1.58524798\n",
      "   1.17104356]\n",
      " [ 1.29641734  0.68199434  0.89117477 ...  0.67121674  2.73760132\n",
      "  -0.89743525]\n",
      " [ 0.23754579  0.68199434  0.89117477 ...  0.67121674  2.73760132\n",
      "   1.17104356]]\n"
     ]
    }
   ],
   "source": [
    "print(X_test_std)"
   ]
  },
  {
   "cell_type": "code",
   "execution_count": 23,
   "id": "416ed864",
   "metadata": {},
   "outputs": [
    {
     "name": "stdout",
     "output_type": "stream",
     "text": [
      "[[0.7153654  0.37965572]\n",
      " [0.7662147  0.4247561 ]\n",
      " [0.55421823 0.5416314 ]\n",
      " [0.4100542  0.5627612 ]\n",
      " [0.637475   0.32028133]\n",
      " [0.6791271  0.5149358 ]\n",
      " [0.86237246 0.28994596]\n",
      " [0.6808132  0.45721236]\n",
      " [0.5195168  0.49097785]\n",
      " [0.34862387 0.75992274]\n",
      " [0.40585172 0.5553617 ]\n",
      " [0.22517508 0.9367448 ]\n",
      " [0.7366669  0.38166434]\n",
      " [0.31095958 0.9255473 ]\n",
      " [0.13110372 0.93141985]\n",
      " [0.5344315  0.75893736]\n",
      " [0.5023906  0.89583784]\n",
      " [0.74068594 0.54784805]\n",
      " [0.5601882  0.86788905]\n",
      " [0.7046403  0.61364335]\n",
      " [0.7828584  0.38826984]\n",
      " [0.6317667  0.6949041 ]\n",
      " [0.75569266 0.25828165]\n",
      " [0.18468335 0.6828901 ]\n",
      " [0.5724364  0.6914042 ]\n",
      " [0.81532794 0.35073784]\n",
      " [0.3258167  0.86685497]\n",
      " [0.56823015 0.76022786]\n",
      " [0.6364315  0.42923975]\n",
      " [0.5769276  0.49210435]\n",
      " [0.6507051  0.7076256 ]\n",
      " [0.64023376 0.8093274 ]\n",
      " [0.8327813  0.28137252]\n",
      " [0.7521664  0.3742282 ]\n",
      " [0.61061287 0.51941586]\n",
      " [0.45638195 0.8101644 ]\n",
      " [0.739879   0.35812986]\n",
      " [0.43296906 0.6051162 ]\n",
      " [0.5103561  0.5988642 ]\n",
      " [0.43834043 0.6192881 ]\n",
      " [0.38338688 0.842167  ]\n",
      " [0.5675012  0.47845653]\n",
      " [0.7357631  0.36286604]\n",
      " [0.83125055 0.3041716 ]\n",
      " [0.5734782  0.3696124 ]\n",
      " [0.6004805  0.5057274 ]\n",
      " [0.5382571  0.76411045]\n",
      " [0.8302201  0.27891713]\n",
      " [0.50923204 0.7494726 ]\n",
      " [0.65942127 0.54419863]\n",
      " [0.82208204 0.33674222]\n",
      " [0.6400195  0.3982213 ]\n",
      " [0.5886886  0.43207568]\n",
      " [0.723719   0.2791851 ]\n",
      " [0.7354105  0.2893815 ]\n",
      " [0.66805047 0.37428945]\n",
      " [0.25830805 0.85193896]\n",
      " [0.5538747  0.63587695]\n",
      " [0.31344974 0.82569957]\n",
      " [0.5732943  0.41359228]\n",
      " [0.28895736 0.78443766]\n",
      " [0.79090786 0.45104453]\n",
      " [0.6805364  0.44517913]\n",
      " [0.73024315 0.29348314]\n",
      " [0.6452176  0.3429718 ]\n",
      " [0.82978225 0.32452458]\n",
      " [0.67516625 0.31300703]\n",
      " [0.75569135 0.39097714]\n",
      " [0.5739359  0.754412  ]\n",
      " [0.33680034 0.6700176 ]\n",
      " [0.5986861  0.4759502 ]\n",
      " [0.79213744 0.37610644]\n",
      " [0.7638066  0.1990557 ]\n",
      " [0.5708002  0.41882825]\n",
      " [0.77744174 0.30477232]\n",
      " [0.6811816  0.36981905]\n",
      " [0.55020386 0.4251421 ]\n",
      " [0.36246604 0.8645996 ]\n",
      " [0.35472852 0.9056498 ]\n",
      " [0.3301295  0.8138394 ]\n",
      " [0.3483292  0.8083818 ]]\n"
     ]
    }
   ],
   "source": [
    "print(y_pred)"
   ]
  },
  {
   "cell_type": "code",
   "execution_count": 24,
   "id": "70dbb945",
   "metadata": {},
   "outputs": [
    {
     "name": "stdout",
     "output_type": "stream",
     "text": [
      "[0, 0, 0, 1, 0, 0, 0, 0, 0, 1, 1, 1, 0, 1, 1, 1, 1, 0, 1, 0, 0, 1, 0, 1, 1, 0, 1, 1, 0, 0, 1, 1, 0, 0, 0, 1, 0, 1, 1, 1, 1, 0, 0, 0, 0, 0, 1, 0, 1, 0, 0, 0, 0, 0, 0, 0, 1, 1, 1, 0, 1, 0, 0, 0, 0, 0, 0, 0, 1, 1, 0, 0, 0, 0, 0, 0, 0, 1, 1, 1, 1]\n"
     ]
    }
   ],
   "source": [
    "Y_pred_labels = [np.argmax(i) for i in y_pred]\n",
    "print(Y_pred_labels)"
   ]
  },
  {
   "cell_type": "code",
   "execution_count": 25,
   "id": "68c4205e",
   "metadata": {},
   "outputs": [],
   "source": [
    "from tensorflow.math import confusion_matrix"
   ]
  },
  {
   "cell_type": "code",
   "execution_count": 26,
   "id": "d0763aca",
   "metadata": {},
   "outputs": [
    {
     "name": "stdout",
     "output_type": "stream",
     "text": [
      "tf.Tensor(\n",
      "[[40  5]\n",
      " [ 8 28]], shape=(2, 2), dtype=int32)\n"
     ]
    }
   ],
   "source": [
    "confus_mat = confusion_matrix(Y_test, Y_pred_labels)\n",
    "\n",
    "print(confus_mat)"
   ]
  },
  {
   "cell_type": "code",
   "execution_count": 27,
   "id": "8e46e1d1",
   "metadata": {},
   "outputs": [
    {
     "data": {
      "text/plain": [
       "<AxesSubplot:>"
      ]
     },
     "execution_count": 27,
     "metadata": {},
     "output_type": "execute_result"
    },
    {
     "data": {
      "image/png": "[encoded data removed]",
      "text/plain": [
       "<Figure size 432x288 with 2 Axes>"
      ]
     },
     "metadata": {
      "needs_background": "light"
     },
     "output_type": "display_data"
    }
   ],
   "source": [
    "import seaborn as sns\n",
    "sns.heatmap(confus_mat, annot=True)"
   ]
  },
  {
   "cell_type": "code",
   "execution_count": 28,
   "id": "df2b24e3",
   "metadata": {},
   "outputs": [],
   "source": [
    "from sklearn.metrics import classification_report"
   ]
  },
  {
   "cell_type": "code",
   "execution_count": 29,
   "id": "2d3744f4",
   "metadata": {},
   "outputs": [
    {
     "name": "stdout",
     "output_type": "stream",
     "text": [
      "              precision    recall  f1-score   support\n",
      "\n",
      "           0       0.83      0.89      0.86        45\n",
      "           1       0.85      0.78      0.81        36\n",
      "\n",
      "    accuracy                           0.84        81\n",
      "   macro avg       0.84      0.83      0.84        81\n",
      "weighted avg       0.84      0.84      0.84        81\n",
      "\n"
     ]
    }
   ],
   "source": [
    "cr =  classification_report(Y_test, Y_pred_labels)\n",
    "\n",
    "print(cr)"
   ]
  },
  {
   "cell_type": "code",
   "execution_count": null,
   "id": "9c452de9",
   "metadata": {},
   "outputs": [],
   "source": []
  }
 ],
 "metadata": {
  "kernelspec": {
   "display_name": "Python 3",
   "language": "python",
   "name": "python3"
  },
  "language_info": {
   "codemirror_mode": {
    "name": "ipython",
    "version": 3
   },
   "file_extension": ".py",
   "mimetype": "text/x-python",
   "name": "python",
   "nbconvert_exporter": "python",
   "pygments_lexer": "ipython3",
   "version": "3.8.8"
  }
 },
 "nbformat": 4,
 "nbformat_minor": 5
}
